{
 "cells": [
  {
   "cell_type": "markdown",
   "metadata": {},
   "source": [
    "SENT1 - HE IS A GOOD BOY\n",
    "SENT2 - SHE IS A GOOD GIRL\n",
    "SENT3 - BOY AND GRIL ARE GOOD\n",
    "\n",
    "**AFTER STOP KEYWORDS**\n",
    "\n",
    "SENT1 - GOOD BOY\n",
    "SENT2 - GOOD GIRL\n",
    "SENT3 - BOY GIRL GOOD\n",
    "\n",
    "**WORD FREQUENCY (CREATE HISTOGRAM) what is total count of each word**\n",
    "\n",
    "\n",
    "GOOD   3\n",
    "\n",
    "BOY    2\n",
    "\n",
    "GIRL   2\n",
    "\n",
    "        GOOD   BOY   GIRL\n",
    "SENT1   1      1     0\n",
    "\n",
    "SENT2   1      0     1\n",
    "\n",
    "SENT3   1      1     1\n",
    "\n",
    "BAG OF WORDS\n",
    "\n",
    "BINARY BAG OF WORDS\n",
    "\n",
    "**DISADVANTAGE OF BAG OF WORDS**\n",
    "\n",
    "* all values have equal representation. We cannot differentiate which word is more important\n",
    "\n",
    "* \n",
    "\n",
    "\n"
   ]
  },
  {
   "cell_type": "code",
   "execution_count": 2,
   "metadata": {},
   "outputs": [],
   "source": [
    "import nltk\n",
    "\n",
    "paragraph =  \"\"\"I have three visions for India. In 3000 years of our history, people from all over \n",
    "               the world have come and invaded us, captured our lands, conquered our minds. \n",
    "               From Alexander onwards, the Greeks, the Turks, the Moguls, the Portuguese, the British,\n",
    "               the French, the Dutch, all of them came and looted us, took over what was ours. \n",
    "               Yet we have not done this to any other nation. We have not conquered anyone. \n",
    "               We have not grabbed their land, their culture, \n",
    "               their history and tried to enforce our way of life on them. \n",
    "               Why? Because we respect the freedom of others.That is why my \n",
    "               first vision is that of freedom. I believe that India got its first vision of \n",
    "               this in 1857, when we started the War of Independence. It is this freedom that\n",
    "               we must protect and nurture and build on. If we are not free, no one will respect us.\n",
    "               My second vision for India’s development. For fifty years we have been a developing nation.\n",
    "               It is time we see ourselves as a developed nation. We are among the top 5 nations of the world\n",
    "               in terms of GDP. We have a 10 percent growth rate in most areas. Our poverty levels are falling.\n",
    "               Our achievements are being globally recognised today. Yet we lack the self-confidence to\n",
    "               see ourselves as a developed nation, self-reliant and self-assured. Isn’t this incorrect?\n",
    "               I have a third vision. India must stand up to the world. Because I believe that unless India \n",
    "               stands up to the world, no one will respect us. Only strength respects strength. We must be \n",
    "               strong not only as a military power but also as an economic power. Both must go hand-in-hand. \n",
    "               My good fortune was to have worked with three great minds. Dr. Vikram Sarabhai of the Dept. of \n",
    "               space, Professor Satish Dhawan, who succeeded him and Dr. Brahm Prakash, father of nuclear material.\n",
    "               I was lucky to have worked with all three of them closely and consider this the great opportunity of my life. \n",
    "               I see four milestones in my career\"\"\"\n",
    "               \n",
    "               \n",
    "# Cleaning the texts"
   ]
  },
  {
   "cell_type": "code",
   "execution_count": 3,
   "metadata": {},
   "outputs": [],
   "source": [
    "sentence = nltk.sent_tokenize(paragraph)"
   ]
  },
  {
   "cell_type": "code",
   "execution_count": 4,
   "metadata": {},
   "outputs": [
    {
     "data": {
      "text/plain": [
       "['I have three visions for India.',\n",
       " 'In 3000 years of our history, people from all over \\n               the world have come and invaded us, captured our lands, conquered our minds.',\n",
       " 'From Alexander onwards, the Greeks, the Turks, the Moguls, the Portuguese, the British,\\n               the French, the Dutch, all of them came and looted us, took over what was ours.',\n",
       " 'Yet we have not done this to any other nation.',\n",
       " 'We have not conquered anyone.',\n",
       " 'We have not grabbed their land, their culture, \\n               their history and tried to enforce our way of life on them.',\n",
       " 'Why?',\n",
       " 'Because we respect the freedom of others.That is why my \\n               first vision is that of freedom.',\n",
       " 'I believe that India got its first vision of \\n               this in 1857, when we started the War of Independence.',\n",
       " 'It is this freedom that\\n               we must protect and nurture and build on.',\n",
       " 'If we are not free, no one will respect us.',\n",
       " 'My second vision for India’s development.',\n",
       " 'For fifty years we have been a developing nation.',\n",
       " 'It is time we see ourselves as a developed nation.',\n",
       " 'We are among the top 5 nations of the world\\n               in terms of GDP.',\n",
       " 'We have a 10 percent growth rate in most areas.',\n",
       " 'Our poverty levels are falling.',\n",
       " 'Our achievements are being globally recognised today.',\n",
       " 'Yet we lack the self-confidence to\\n               see ourselves as a developed nation, self-reliant and self-assured.',\n",
       " 'Isn’t this incorrect?',\n",
       " 'I have a third vision.',\n",
       " 'India must stand up to the world.',\n",
       " 'Because I believe that unless India \\n               stands up to the world, no one will respect us.',\n",
       " 'Only strength respects strength.',\n",
       " 'We must be \\n               strong not only as a military power but also as an economic power.',\n",
       " 'Both must go hand-in-hand.',\n",
       " 'My good fortune was to have worked with three great minds.',\n",
       " 'Dr. Vikram Sarabhai of the Dept.',\n",
       " 'of \\n               space, Professor Satish Dhawan, who succeeded him and Dr. Brahm Prakash, father of nuclear material.',\n",
       " 'I was lucky to have worked with all three of them closely and consider this the great opportunity of my life.',\n",
       " 'I see four milestones in my career']"
      ]
     },
     "execution_count": 4,
     "metadata": {},
     "output_type": "execute_result"
    }
   ],
   "source": [
    "sentence"
   ]
  },
  {
   "cell_type": "code",
   "execution_count": 5,
   "metadata": {},
   "outputs": [],
   "source": [
    "import re\n",
    "import nltk\n",
    "from nltk.corpus import stopwords\n",
    "from nltk.stem import PorterStemmer\n",
    "from nltk.stem import WordNetLemmatizer"
   ]
  },
  {
   "cell_type": "code",
   "execution_count": 13,
   "metadata": {},
   "outputs": [],
   "source": [
    "ps = PorterStemmer()\n",
    "wordnet = WordNetLemmatizer()"
   ]
  },
  {
   "cell_type": "code",
   "execution_count": 8,
   "metadata": {},
   "outputs": [
    {
     "name": "stdout",
     "output_type": "stream",
     "text": [
      "I have three visions for India.\n",
      "In 3000 years of our history, people from all over \n",
      "               the world have come and invaded us, captured our lands, conquered our minds.\n",
      "From Alexander onwards, the Greeks, the Turks, the Moguls, the Portuguese, the British,\n",
      "               the French, the Dutch, all of them came and looted us, took over what was ours.\n",
      "Yet we have not done this to any other nation.\n",
      "We have not conquered anyone.\n",
      "We have not grabbed their land, their culture, \n",
      "               their history and tried to enforce our way of life on them.\n",
      "Why?\n",
      "Because we respect the freedom of others.That is why my \n",
      "               first vision is that of freedom.\n",
      "I believe that India got its first vision of \n",
      "               this in 1857, when we started the War of Independence.\n",
      "It is this freedom that\n",
      "               we must protect and nurture and build on.\n",
      "If we are not free, no one will respect us.\n",
      "My second vision for India’s development.\n",
      "For fifty years we have been a developing nation.\n",
      "It is time we see ourselves as a developed nation.\n",
      "We are among the top 5 nations of the world\n",
      "               in terms of GDP.\n",
      "We have a 10 percent growth rate in most areas.\n",
      "Our poverty levels are falling.\n",
      "Our achievements are being globally recognised today.\n",
      "Yet we lack the self-confidence to\n",
      "               see ourselves as a developed nation, self-reliant and self-assured.\n",
      "Isn’t this incorrect?\n",
      "I have a third vision.\n",
      "India must stand up to the world.\n",
      "Because I believe that unless India \n",
      "               stands up to the world, no one will respect us.\n",
      "Only strength respects strength.\n",
      "We must be \n",
      "               strong not only as a military power but also as an economic power.\n",
      "Both must go hand-in-hand.\n",
      "My good fortune was to have worked with three great minds.\n",
      "Dr. Vikram Sarabhai of the Dept.\n",
      "of \n",
      "               space, Professor Satish Dhawan, who succeeded him and Dr. Brahm Prakash, father of nuclear material.\n",
      "I was lucky to have worked with all three of them closely and consider this the great opportunity of my life.\n",
      "I see four milestones in my career\n"
     ]
    }
   ],
   "source": [
    "for i in range(len(sentence)):\n",
    "    print(sentence[i])"
   ]
  },
  {
   "cell_type": "code",
   "execution_count": 10,
   "metadata": {},
   "outputs": [],
   "source": [
    "#we will store all our clean sentences in corpus\n",
    "\n",
    "corpus = []\n",
    "for i in range(len(sentence)):\n",
    "    review = re.sub('[^a-zA-Z]', ' ', sentence[i]) #iterate to all sentences rpelaces everything apart from words and characters with space\n",
    "    review = review.lower() # lowering each senteces\n",
    "    review = review.split() # #getting list of words\n",
    "    review = [ps.stem(word) for word in review if not word in set(stopwords.words('english'))]\n",
    "    review = ' '.join(review)\n",
    "    corpus.append(review)\n"
   ]
  },
  {
   "cell_type": "code",
   "execution_count": 11,
   "metadata": {},
   "outputs": [
    {
     "data": {
      "text/plain": [
       "['three vision india',\n",
       " 'year histori peopl world come invad us captur land conquer mind',\n",
       " 'alexand onward greek turk mogul portugues british french dutch came loot us took',\n",
       " 'yet done nation',\n",
       " 'conquer anyon',\n",
       " 'grab land cultur histori tri enforc way life',\n",
       " '',\n",
       " 'respect freedom other first vision freedom',\n",
       " 'believ india got first vision start war independ',\n",
       " 'freedom must protect nurtur build',\n",
       " 'free one respect us',\n",
       " 'second vision india develop',\n",
       " 'fifti year develop nation',\n",
       " 'time see develop nation',\n",
       " 'among top nation world term gdp',\n",
       " 'percent growth rate area',\n",
       " 'poverti level fall',\n",
       " 'achiev global recognis today',\n",
       " 'yet lack self confid see develop nation self reliant self assur',\n",
       " 'incorrect',\n",
       " 'third vision',\n",
       " 'india must stand world',\n",
       " 'believ unless india stand world one respect us',\n",
       " 'strength respect strength',\n",
       " 'must strong militari power also econom power',\n",
       " 'must go hand hand',\n",
       " 'good fortun work three great mind',\n",
       " 'dr vikram sarabhai dept',\n",
       " 'space professor satish dhawan succeed dr brahm prakash father nuclear materi',\n",
       " 'lucki work three close consid great opportun life',\n",
       " 'see four mileston career']"
      ]
     },
     "execution_count": 11,
     "metadata": {},
     "output_type": "execute_result"
    }
   ],
   "source": [
    "corpus"
   ]
  },
  {
   "cell_type": "code",
   "execution_count": 14,
   "metadata": {},
   "outputs": [],
   "source": [
    "#trying lemmatization\n",
    "corpus = []\n",
    "for i in range(len(sentence)):\n",
    "    review = re.sub('[^a-zA-Z]', ' ', sentence[i]) #iterate to all sentences rpelaces everything apart from words and characters with space\n",
    "    review = review.lower() # lowering each senteces\n",
    "    review = review.split() # #getting list of words\n",
    "    review = [wordnet.lemmatize(word) for word in review if not word in set(stopwords.words('english'))]\n",
    "    review = ' '.join(review)\n",
    "    corpus.append(review)"
   ]
  },
  {
   "cell_type": "code",
   "execution_count": 15,
   "metadata": {},
   "outputs": [
    {
     "data": {
      "text/plain": [
       "['three vision india',\n",
       " 'year history people world come invaded u captured land conquered mind',\n",
       " 'alexander onwards greek turk mogul portuguese british french dutch came looted u took',\n",
       " 'yet done nation',\n",
       " 'conquered anyone',\n",
       " 'grabbed land culture history tried enforce way life',\n",
       " '',\n",
       " 'respect freedom others first vision freedom',\n",
       " 'believe india got first vision started war independence',\n",
       " 'freedom must protect nurture build',\n",
       " 'free one respect u',\n",
       " 'second vision india development',\n",
       " 'fifty year developing nation',\n",
       " 'time see developed nation',\n",
       " 'among top nation world term gdp',\n",
       " 'percent growth rate area',\n",
       " 'poverty level falling',\n",
       " 'achievement globally recognised today',\n",
       " 'yet lack self confidence see developed nation self reliant self assured',\n",
       " 'incorrect',\n",
       " 'third vision',\n",
       " 'india must stand world',\n",
       " 'believe unless india stand world one respect u',\n",
       " 'strength respect strength',\n",
       " 'must strong military power also economic power',\n",
       " 'must go hand hand',\n",
       " 'good fortune worked three great mind',\n",
       " 'dr vikram sarabhai dept',\n",
       " 'space professor satish dhawan succeeded dr brahm prakash father nuclear material',\n",
       " 'lucky worked three closely consider great opportunity life',\n",
       " 'see four milestone career']"
      ]
     },
     "execution_count": 15,
     "metadata": {},
     "output_type": "execute_result"
    }
   ],
   "source": [
    "corpus"
   ]
  },
  {
   "cell_type": "code",
   "execution_count": 16,
   "metadata": {},
   "outputs": [],
   "source": [
    "#creating the bag of words model\n",
    "\n",
    "#CountVectorizer will help us to create bag of words\n",
    "\n",
    "\n",
    "\n",
    "from sklearn.feature_extraction.text import CountVectorizer\n",
    "cv=CountVectorizer()\n",
    "X = cv.fit_transform(corpus).toarray()\n"
   ]
  },
  {
   "cell_type": "code",
   "execution_count": 17,
   "metadata": {},
   "outputs": [
    {
     "data": {
      "text/plain": [
       "array([[0, 0, 0, ..., 0, 0, 0],\n",
       "       [0, 0, 0, ..., 1, 1, 0],\n",
       "       [0, 1, 0, ..., 0, 0, 0],\n",
       "       ...,\n",
       "       [0, 0, 0, ..., 0, 0, 0],\n",
       "       [0, 0, 0, ..., 0, 0, 0],\n",
       "       [0, 0, 0, ..., 0, 0, 0]])"
      ]
     },
     "execution_count": 17,
     "metadata": {},
     "output_type": "execute_result"
    }
   ],
   "source": [
    "X"
   ]
  },
  {
   "cell_type": "code",
   "execution_count": null,
   "metadata": {},
   "outputs": [],
   "source": []
  }
 ],
 "metadata": {
  "kernelspec": {
   "display_name": "Python 3",
   "language": "python",
   "name": "python3"
  },
  "language_info": {
   "codemirror_mode": {
    "name": "ipython",
    "version": 3
   },
   "file_extension": ".py",
   "mimetype": "text/x-python",
   "name": "python",
   "nbconvert_exporter": "python",
   "pygments_lexer": "ipython3",
   "version": "3.7.3"
  }
 },
 "nbformat": 4,
 "nbformat_minor": 4
}
